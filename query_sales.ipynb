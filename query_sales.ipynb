{
 "cells": [
  {
   "cell_type": "code",
   "execution_count": 7,
   "id": "4f0185ac",
   "metadata": {},
   "outputs": [],
   "source": [
    "from delta import *\n",
    "import pyspark\n",
    "from schemas import pharmacy_sales_schema\n",
    "import pyspark.sql.functions as F\n",
    "\n",
    "builder = (\n",
    "    pyspark.sql.SparkSession.builder\n",
    "    .appName(\"MyApp\")\n",
    "    .config(\"spark.sql.extensions\", \"io.delta.sql.DeltaSparkSessionExtension\") \n",
    "    .config(\"spark.sql.catalog.spark_catalog\", \"org.apache.spark.sql.delta.catalog.DeltaCatalog\")\n",
    ")\n",
    "\n",
    "spark = configure_spark_with_delta_pip(builder).getOrCreate()"
   ]
  },
  {
   "cell_type": "code",
   "execution_count": 8,
   "id": "b1c6d853",
   "metadata": {},
   "outputs": [
    {
     "name": "stdout",
     "output_type": "stream",
     "text": [
      "+--------------------+--------------------+--------------------+----------+--------------------+----------+----------------+------------+-----------+------------------------+--------+-----------+-----------------------+--------------------+\n",
      "|             cart_id|      transaction_id|       sale_datetime|product_id|        product_name|unit_price|discount_applied|liquid_price|taxes_price|liquid_price_after_taxes|quantity|total_price|total_price_after_taxes|       industry_name|\n",
      "+--------------------+--------------------+--------------------+----------+--------------------+----------+----------------+------------+-----------+------------------------+--------+-----------+-----------------------+--------------------+\n",
      "|edc0c922-29fc-4e9...|ae1b83a7-ed10-457...|2025-06-01 14:00:...|         0|TYLENOL SINUS 500...|     13.21|             0.0|       13.21|        3.6|      16.810000000000002|       3|      39.63|                  50.43|        KENVUE LTDA.|\n",
      "|edc0c922-29fc-4e9...|3010ca2a-28c4-4a3...|2025-06-01 13:59:...|         0|VENVANSE 30 MG CA...|    267.11|             0.0|      267.11|      72.84|      339.95000000000005|       2|     534.22|                  679.9| TAKEDA PHARMA LTDA.|\n",
      "|db0af34b-cfd3-4f6...|9a5ed71f-d43f-452...|2025-06-01 13:08:...|         0|ATENTAH 18 MG CAP...|     32.55|             0.0|       32.55|       8.88|                   41.43|       2|       65.1|                  82.86|APSEN FARMACEUTIC...|\n",
      "|db0af34b-cfd3-4f6...|381d5945-c160-43d...|2025-06-01 13:08:...|         0|VENVANSE 30 MG CA...|    267.11|             0.0|      267.11|      72.84|      339.95000000000005|       1|     267.11|                 339.95| TAKEDA PHARMA LTDA.|\n",
      "+--------------------+--------------------+--------------------+----------+--------------------+----------+----------------+------------+-----------+------------------------+--------+-----------+-----------------------+--------------------+\n",
      "\n"
     ]
    }
   ],
   "source": [
    "df = spark.read.format(\"delta\").load(\"/sales/daily_sales\").sort(F.desc(F.col(\"sale_datetime\")))\n",
    "df.show()"
   ]
  },
  {
   "cell_type": "code",
   "execution_count": null,
   "id": "b2426e7e",
   "metadata": {},
   "outputs": [],
   "source": [
    "spark.stop()"
   ]
  }
 ],
 "metadata": {
  "kernelspec": {
   "display_name": "Python 3",
   "language": "python",
   "name": "python3"
  },
  "language_info": {
   "codemirror_mode": {
    "name": "ipython",
    "version": 3
   },
   "file_extension": ".py",
   "mimetype": "text/x-python",
   "name": "python",
   "nbconvert_exporter": "python",
   "pygments_lexer": "ipython3",
   "version": "3.11.1"
  }
 },
 "nbformat": 4,
 "nbformat_minor": 5
}
